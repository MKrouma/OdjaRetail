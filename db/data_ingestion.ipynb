{
 "cells": [
  {
   "cell_type": "markdown",
   "metadata": {},
   "source": [
    "# Ingestion de données"
   ]
  },
  {
   "cell_type": "code",
   "execution_count": 8,
   "metadata": {},
   "outputs": [],
   "source": [
    "import os \n",
    "import pandas \n",
    "import geopandas \n",
    "from datetime import datetime"
   ]
  },
  {
   "cell_type": "code",
   "execution_count": 4,
   "metadata": {},
   "outputs": [
    {
     "data": {
      "text/html": [
       "<div>\n",
       "<style scoped>\n",
       "    .dataframe tbody tr th:only-of-type {\n",
       "        vertical-align: middle;\n",
       "    }\n",
       "\n",
       "    .dataframe tbody tr th {\n",
       "        vertical-align: top;\n",
       "    }\n",
       "\n",
       "    .dataframe thead th {\n",
       "        text-align: right;\n",
       "    }\n",
       "</style>\n",
       "<table border=\"1\" class=\"dataframe\">\n",
       "  <thead>\n",
       "    <tr style=\"text-align: right;\">\n",
       "      <th></th>\n",
       "      <th>id</th>\n",
       "      <th>addr:city</th>\n",
       "      <th>name</th>\n",
       "      <th>operator</th>\n",
       "      <th>geometry</th>\n",
       "    </tr>\n",
       "  </thead>\n",
       "  <tbody>\n",
       "    <tr>\n",
       "      <th>140</th>\n",
       "      <td>node/5924510433</td>\n",
       "      <td>Cocody</td>\n",
       "      <td>King Cash</td>\n",
       "      <td>King Cash</td>\n",
       "      <td>POINT (-4.07771 5.34799)</td>\n",
       "    </tr>\n",
       "  </tbody>\n",
       "</table>\n",
       "</div>"
      ],
      "text/plain": [
       "                  id addr:city       name   operator                  geometry\n",
       "140  node/5924510433    Cocody  King Cash  King Cash  POINT (-4.07771 5.34799)"
      ]
     },
     "metadata": {},
     "output_type": "display_data"
    }
   ],
   "source": [
    "# lire mon fichier supermarches\n",
    "gdf = geopandas.read_file(\"../notes/dataquality/supermarche_abidjan_final_group_felicite.geojson\")\n",
    "display(gdf.sample())"
   ]
  },
  {
   "cell_type": "code",
   "execution_count": 6,
   "metadata": {},
   "outputs": [
    {
     "data": {
      "text/html": [
       "<div>\n",
       "<style scoped>\n",
       "    .dataframe tbody tr th:only-of-type {\n",
       "        vertical-align: middle;\n",
       "    }\n",
       "\n",
       "    .dataframe tbody tr th {\n",
       "        vertical-align: top;\n",
       "    }\n",
       "\n",
       "    .dataframe thead th {\n",
       "        text-align: right;\n",
       "    }\n",
       "</style>\n",
       "<table border=\"1\" class=\"dataframe\">\n",
       "  <thead>\n",
       "    <tr style=\"text-align: right;\">\n",
       "      <th></th>\n",
       "      <th>id</th>\n",
       "      <th>adresse</th>\n",
       "      <th>nom</th>\n",
       "      <th>operateur</th>\n",
       "      <th>geometry</th>\n",
       "    </tr>\n",
       "  </thead>\n",
       "  <tbody>\n",
       "    <tr>\n",
       "      <th>43</th>\n",
       "      <td>node/2844717526</td>\n",
       "      <td>Cocody</td>\n",
       "      <td>Mini Prix</td>\n",
       "      <td>Mini Prix</td>\n",
       "      <td>POINT (-3.9773 5.31036)</td>\n",
       "    </tr>\n",
       "  </tbody>\n",
       "</table>\n",
       "</div>"
      ],
      "text/plain": [
       "                 id adresse        nom  operateur                 geometry\n",
       "43  node/2844717526  Cocody  Mini Prix  Mini Prix  POINT (-3.9773 5.31036)"
      ]
     },
     "metadata": {},
     "output_type": "display_data"
    },
    {
     "data": {
      "text/plain": [
       "(277, 5)"
      ]
     },
     "metadata": {},
     "output_type": "display_data"
    }
   ],
   "source": [
    "# renommer les colonnes\n",
    "gdf = gdf.rename(columns={\n",
    "    \"name\": \"nom\",\n",
    "    \"addr:city\": \"adresse\",\n",
    "    \"operator\": \"operateur\"\n",
    "})\n",
    "\n",
    "display(gdf.sample())\n",
    "display(gdf.shape)"
   ]
  },
  {
   "cell_type": "code",
   "execution_count": 10,
   "metadata": {},
   "outputs": [],
   "source": [
    "# retravailler id et ajouter ville_id et created_at\n",
    "gdf[\"id\"] = range(1, len(gdf)+1)\n",
    "gdf[\"ville_id\"] = 1\n",
    "gdf[\"created_at\"] = datetime.now()"
   ]
  },
  {
   "cell_type": "code",
   "execution_count": 11,
   "metadata": {},
   "outputs": [
    {
     "data": {
      "text/html": [
       "<div>\n",
       "<style scoped>\n",
       "    .dataframe tbody tr th:only-of-type {\n",
       "        vertical-align: middle;\n",
       "    }\n",
       "\n",
       "    .dataframe tbody tr th {\n",
       "        vertical-align: top;\n",
       "    }\n",
       "\n",
       "    .dataframe thead th {\n",
       "        text-align: right;\n",
       "    }\n",
       "</style>\n",
       "<table border=\"1\" class=\"dataframe\">\n",
       "  <thead>\n",
       "    <tr style=\"text-align: right;\">\n",
       "      <th></th>\n",
       "      <th>id</th>\n",
       "      <th>adresse</th>\n",
       "      <th>nom</th>\n",
       "      <th>operateur</th>\n",
       "      <th>geometry</th>\n",
       "      <th>ville_id</th>\n",
       "      <th>created_at</th>\n",
       "    </tr>\n",
       "  </thead>\n",
       "  <tbody>\n",
       "    <tr>\n",
       "      <th>0</th>\n",
       "      <td>1</td>\n",
       "      <td>Cocody</td>\n",
       "      <td>Ofalé Market</td>\n",
       "      <td>Ofalé</td>\n",
       "      <td>POINT (-3.95432 5.35087)</td>\n",
       "      <td>1</td>\n",
       "      <td>2025-04-02 14:08:44.082774</td>\n",
       "    </tr>\n",
       "    <tr>\n",
       "      <th>1</th>\n",
       "      <td>2</td>\n",
       "      <td>Cocody</td>\n",
       "      <td>Cash Center 2 Plateaux</td>\n",
       "      <td>Cash ivoire</td>\n",
       "      <td>POINT (-3.99022 5.3642)</td>\n",
       "      <td>1</td>\n",
       "      <td>2025-04-02 14:08:44.082774</td>\n",
       "    </tr>\n",
       "    <tr>\n",
       "      <th>2</th>\n",
       "      <td>3</td>\n",
       "      <td>Cocody-Angré</td>\n",
       "      <td>Cash Ivoire-Angré</td>\n",
       "      <td>Cash Ivoire</td>\n",
       "      <td>POINT (-3.98543 5.40354)</td>\n",
       "      <td>1</td>\n",
       "      <td>2025-04-02 14:08:44.082774</td>\n",
       "    </tr>\n",
       "    <tr>\n",
       "      <th>3</th>\n",
       "      <td>4</td>\n",
       "      <td>Cocody-Angré-8etranche</td>\n",
       "      <td>Cash Ivoire-8e Tranche</td>\n",
       "      <td>Cash Ivoire</td>\n",
       "      <td>POINT (-3.97766 5.3997)</td>\n",
       "      <td>1</td>\n",
       "      <td>2025-04-02 14:08:44.082774</td>\n",
       "    </tr>\n",
       "    <tr>\n",
       "      <th>4</th>\n",
       "      <td>5</td>\n",
       "      <td>Cocody</td>\n",
       "      <td>Supermarché CDCI</td>\n",
       "      <td>CDCI</td>\n",
       "      <td>POINT (-3.96563 5.3578)</td>\n",
       "      <td>1</td>\n",
       "      <td>2025-04-02 14:08:44.082774</td>\n",
       "    </tr>\n",
       "    <tr>\n",
       "      <th>...</th>\n",
       "      <td>...</td>\n",
       "      <td>...</td>\n",
       "      <td>...</td>\n",
       "      <td>...</td>\n",
       "      <td>...</td>\n",
       "      <td>...</td>\n",
       "      <td>...</td>\n",
       "    </tr>\n",
       "    <tr>\n",
       "      <th>272</th>\n",
       "      <td>273</td>\n",
       "      <td>Plameraie</td>\n",
       "      <td>Carrefour Market</td>\n",
       "      <td>Carrefour</td>\n",
       "      <td>POINT (-3.95621 5.39954)</td>\n",
       "      <td>1</td>\n",
       "      <td>2025-04-02 14:08:44.082774</td>\n",
       "    </tr>\n",
       "    <tr>\n",
       "      <th>273</th>\n",
       "      <td>274</td>\n",
       "      <td>Cocody</td>\n",
       "      <td>Mini Market Chez Paco</td>\n",
       "      <td>Mini Market Chez Paco</td>\n",
       "      <td>POINT (-4.01135 5.34428)</td>\n",
       "      <td>1</td>\n",
       "      <td>2025-04-02 14:08:44.082774</td>\n",
       "    </tr>\n",
       "    <tr>\n",
       "      <th>274</th>\n",
       "      <td>275</td>\n",
       "      <td>Macory</td>\n",
       "      <td>Supermarché Chinoise</td>\n",
       "      <td>Supermarché Chinoise</td>\n",
       "      <td>POINT (-3.9904 5.35533)</td>\n",
       "      <td>1</td>\n",
       "      <td>2025-04-02 14:08:44.082774</td>\n",
       "    </tr>\n",
       "    <tr>\n",
       "      <th>275</th>\n",
       "      <td>276</td>\n",
       "      <td>2Plateaux</td>\n",
       "      <td>Supermarché Chinoise</td>\n",
       "      <td>Supermarché Chinoise</td>\n",
       "      <td>POINT (-3.99005 5.36896)</td>\n",
       "      <td>1</td>\n",
       "      <td>2025-04-02 14:08:44.082774</td>\n",
       "    </tr>\n",
       "    <tr>\n",
       "      <th>276</th>\n",
       "      <td>277</td>\n",
       "      <td>Abidjan</td>\n",
       "      <td>marché de vente de machine</td>\n",
       "      <td>marché de vente de machine</td>\n",
       "      <td>POINT (-3.96977 5.29549)</td>\n",
       "      <td>1</td>\n",
       "      <td>2025-04-02 14:08:44.082774</td>\n",
       "    </tr>\n",
       "  </tbody>\n",
       "</table>\n",
       "<p>277 rows × 7 columns</p>\n",
       "</div>"
      ],
      "text/plain": [
       "      id                 adresse                         nom  \\\n",
       "0      1                  Cocody                Ofalé Market   \n",
       "1      2                  Cocody      Cash Center 2 Plateaux   \n",
       "2      3            Cocody-Angré           Cash Ivoire-Angré   \n",
       "3      4  Cocody-Angré-8etranche      Cash Ivoire-8e Tranche   \n",
       "4      5                  Cocody            Supermarché CDCI   \n",
       "..   ...                     ...                         ...   \n",
       "272  273               Plameraie            Carrefour Market   \n",
       "273  274                  Cocody       Mini Market Chez Paco   \n",
       "274  275                  Macory        Supermarché Chinoise   \n",
       "275  276               2Plateaux        Supermarché Chinoise   \n",
       "276  277                 Abidjan  marché de vente de machine   \n",
       "\n",
       "                      operateur                  geometry  ville_id  \\\n",
       "0                         Ofalé  POINT (-3.95432 5.35087)         1   \n",
       "1                   Cash ivoire   POINT (-3.99022 5.3642)         1   \n",
       "2                   Cash Ivoire  POINT (-3.98543 5.40354)         1   \n",
       "3                   Cash Ivoire   POINT (-3.97766 5.3997)         1   \n",
       "4                          CDCI   POINT (-3.96563 5.3578)         1   \n",
       "..                          ...                       ...       ...   \n",
       "272                   Carrefour  POINT (-3.95621 5.39954)         1   \n",
       "273       Mini Market Chez Paco  POINT (-4.01135 5.34428)         1   \n",
       "274        Supermarché Chinoise   POINT (-3.9904 5.35533)         1   \n",
       "275        Supermarché Chinoise  POINT (-3.99005 5.36896)         1   \n",
       "276  marché de vente de machine  POINT (-3.96977 5.29549)         1   \n",
       "\n",
       "                    created_at  \n",
       "0   2025-04-02 14:08:44.082774  \n",
       "1   2025-04-02 14:08:44.082774  \n",
       "2   2025-04-02 14:08:44.082774  \n",
       "3   2025-04-02 14:08:44.082774  \n",
       "4   2025-04-02 14:08:44.082774  \n",
       "..                         ...  \n",
       "272 2025-04-02 14:08:44.082774  \n",
       "273 2025-04-02 14:08:44.082774  \n",
       "274 2025-04-02 14:08:44.082774  \n",
       "275 2025-04-02 14:08:44.082774  \n",
       "276 2025-04-02 14:08:44.082774  \n",
       "\n",
       "[277 rows x 7 columns]"
      ]
     },
     "metadata": {},
     "output_type": "display_data"
    }
   ],
   "source": [
    "display(gdf)"
   ]
  },
  {
   "cell_type": "code",
   "execution_count": 12,
   "metadata": {},
   "outputs": [
    {
     "data": {
      "text/plain": [
       "id                     int64\n",
       "adresse               object\n",
       "nom                   object\n",
       "operateur             object\n",
       "geometry            geometry\n",
       "ville_id               int64\n",
       "created_at    datetime64[us]\n",
       "dtype: object"
      ]
     },
     "execution_count": 12,
     "metadata": {},
     "output_type": "execute_result"
    }
   ],
   "source": [
    "gdf.dtypes"
   ]
  },
  {
   "cell_type": "code",
   "execution_count": 13,
   "metadata": {},
   "outputs": [
    {
     "name": "stderr",
     "output_type": "stream",
     "text": [
      "C:\\Users\\HP\\AppData\\Local\\Packages\\PythonSoftwareFoundation.Python.3.12_qbz5n2kfra8p0\\LocalCache\\local-packages\\Python312\\site-packages\\pyogrio\\raw.py:723: RuntimeWarning: Field created_at create as date field, though DateTime requested.\n",
      "  ogr_write(\n"
     ]
    }
   ],
   "source": [
    "gdf.to_file(\"../data/resultat/supermarches.shp\")"
   ]
  },
  {
   "cell_type": "code",
   "execution_count": null,
   "metadata": {},
   "outputs": [],
   "source": []
  }
 ],
 "metadata": {
  "kernelspec": {
   "display_name": "Python 3",
   "language": "python",
   "name": "python3"
  },
  "language_info": {
   "codemirror_mode": {
    "name": "ipython",
    "version": 3
   },
   "file_extension": ".py",
   "mimetype": "text/x-python",
   "name": "python",
   "nbconvert_exporter": "python",
   "pygments_lexer": "ipython3",
   "version": "3.12.9"
  }
 },
 "nbformat": 4,
 "nbformat_minor": 2
}
